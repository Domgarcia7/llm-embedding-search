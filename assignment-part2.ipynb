{
 "cells": [
  {
   "cell_type": "code",
   "execution_count": null,
   "metadata": {},
   "outputs": [],
   "source": [
    "#Part 2: Embedding Search (with CLIP)\n",
    "#Created by: Eric Martinez\n",
    "#For: CSCI 4341\n",
    "#At: University of Texas Rio-Grande Valley\n",
    "#Install the required dependencies."
   ]
  },
  {
   "cell_type": "code",
   "execution_count": null,
   "metadata": {},
   "outputs": [],
   "source": [
    "%pip install -q -r requirements.txt"
   ]
  },
  {
   "cell_type": "code",
   "execution_count": null,
   "metadata": {},
   "outputs": [],
   "source": [
    "%pip install git+https://github.com/openai/CLIP.git"
   ]
  },
  {
   "cell_type": "code",
   "execution_count": null,
   "metadata": {},
   "outputs": [],
   "source": [
    "#Step 1: Create Helpful Functions for Working with CLIP"
   ]
  },
  {
   "cell_type": "code",
   "execution_count": null,
   "metadata": {},
   "outputs": [],
   "source": [
    "import torch\n",
    "import clip\n",
    "\n",
    "device = \"cuda\" if torch.cuda.is_available() else \"cpu\"\n",
    "model, preprocess = clip.load(\"ViT-B/32\", device=device)\n",
    "\n",
    "def encode_text(text):\n",
    "    text_tokens = clip.tokenize([text]).to(device)\n",
    "    with torch.no_grad():\n",
    "        text_embedding = model.encode_text(text_tokens)[0]\n",
    "    return text_embedding.tolist()\n",
    "\n",
    "def encode_image(image):\n",
    "    image = preprocess(image).unsqueeze(0).to(device)\n",
    "\n",
    "    with torch.no_grad():\n",
    "        image_features = model.encode_image(image)[0]\n",
    "    return image_features.tolist()"
   ]
  },
  {
   "cell_type": "code",
   "execution_count": null,
   "metadata": {},
   "outputs": [],
   "source": [
    "#Let's try out the text embeddings"
   ]
  },
  {
   "cell_type": "code",
   "execution_count": null,
   "metadata": {},
   "outputs": [],
   "source": [
    "text = \"a cute puppy\"\n",
    "text_embedding = encode_text(text)\n",
    "\n",
    "print(len(text_embedding))"
   ]
  },
  {
   "cell_type": "code",
   "execution_count": null,
   "metadata": {},
   "outputs": [],
   "source": [
    "#Now image embedding"
   ]
  },
  {
   "cell_type": "code",
   "execution_count": null,
   "metadata": {},
   "outputs": [],
   "source": [
    "from PIL import Image\n",
    "import requests\n",
    "\n",
    "url = \"https://media.istockphoto.com/id/157431311/photo/turkey-sandwich.jpg?s=612x612&w=0&k=20&c=uB6byErFAnWxFkkAqMiGNRJGE8r3nqsSDdqrfBE8HOA=\"\n",
    "raw_image = Image.open(requests.get(url, stream=True).raw)\n",
    "\n",
    "image_embedding = encode_image(raw_image)\n",
    "print(len(image_embedding))"
   ]
  },
  {
   "cell_type": "code",
   "execution_count": null,
   "metadata": {},
   "outputs": [],
   "source": [
    "display(raw_image)"
   ]
  },
  {
   "cell_type": "code",
   "execution_count": null,
   "metadata": {},
   "outputs": [],
   "source": [
    "#Step 2: Create Custom Chroma Embedding Function for CLIP"
   ]
  },
  {
   "cell_type": "code",
   "execution_count": null,
   "metadata": {},
   "outputs": [],
   "source": [
    "from chromadb import Documents, EmbeddingFunction, Embeddings\n",
    "\n",
    "class CLIPEmbeddingFunction(EmbeddingFunction):\n",
    "    def __call__(self, texts: Documents) -> Embeddings:\n",
    "        embeddings = []\n",
    "        \n",
    "        for text in texts:\n",
    "            text_embedding = encode_text(text)\n",
    "            embeddings.append(text_embedding)\n",
    "            \n",
    "        return embeddings"
   ]
  },
  {
   "cell_type": "code",
   "execution_count": null,
   "metadata": {},
   "outputs": [],
   "source": [
    "#Step 3: Create new Chroma Collection"
   ]
  },
  {
   "cell_type": "code",
   "execution_count": null,
   "metadata": {},
   "outputs": [],
   "source": [
    "from dotenv import load_dotenv\n",
    "load_dotenv()  # take environment variables from .env.\n",
    "import os\n",
    "\n",
    "import chromadb\n",
    "from chromadb.utils import embedding_functions\n",
    "\n",
    "\n",
    "def get_chroma_collection(collection_name):\n",
    "    ## Use this one to save to memory\n",
    "    # chroma_client = chromadb.Client() \n",
    "\n",
    "    ## Use this one to save to disk\n",
    "    chroma_client = chromadb.PersistentClient(path=\".\")\n",
    "\n",
    "    clip_ef = CLIPEmbeddingFunction(device=device)\n",
    "\n",
    "    collection = chroma_client.get_or_create_collection(name=collection_name, embedding_function=clip_ef)\n",
    "    return collection"
   ]
  },
  {
   "cell_type": "code",
   "execution_count": null,
   "metadata": {},
   "outputs": [],
   "source": [
    "collection = get_chroma_collection(\"food_clip\")"
   ]
  },
  {
   "cell_type": "code",
   "execution_count": null,
   "metadata": {},
   "outputs": [],
   "source": [
    "#Step 4: Add Data to Chroma Collection"
   ]
  },
  {
   "cell_type": "code",
   "execution_count": null,
   "metadata": {},
   "outputs": [],
   "source": [
    "import json\n",
    "\n",
    "def load_data():\n",
    "    with open(\"data.json\") as f:\n",
    "        data = json.load(f)\n",
    "    return data"
   ]
  },
  {
   "cell_type": "code",
   "execution_count": null,
   "metadata": {},
   "outputs": [],
   "source": [
    "def add_data_to_collection(data, collection):\n",
    "    documents = []\n",
    "    metadatas = []\n",
    "    ids = []\n",
    "\n",
    "    for i, restaurant in enumerate(data):\n",
    "        name = restaurant['name']\n",
    "        address = restaurant['address']\n",
    "        # TODO: add the other fields\n",
    "        rating = restaurant['rating']\n",
    "        description of restaurant = restaurant['description of restaurant']\n",
    "        \n",
    "\n",
    "        # TODO: what are we embedding for each restaurant - obviously add to this\n",
    "        embeddable_string = f\"{name} {address} {rating} {description_of_restaurant}\"\n",
    "        documents.append(embeddable_string)\n",
    "\n",
    "        # lets just store everything we have as metadata\n",
    "        metadatas.append(restaurant)\n",
    "\n",
    "        # lets use the index as the id\n",
    "        ids.append(str(i))\n",
    "\n",
    "    collection.add(\n",
    "        documents=documents,\n",
    "        metadatas=metadatas,\n",
    "        ids=ids\n",
    "    )"
   ]
  },
  {
   "cell_type": "code",
   "execution_count": null,
   "metadata": {},
   "outputs": [],
   "source": [
    "data = load_data()\n",
    "add_data_to_collection(data, collection)"
   ]
  },
  {
   "cell_type": "code",
   "execution_count": null,
   "metadata": {},
   "outputs": [],
   "source": [
    "#Step 4: Query the Collection\n",
    "#make some helper function to query"
   ]
  },
  {
   "cell_type": "code",
   "execution_count": null,
   "metadata": {},
   "outputs": [],
   "source": [
    "def get_results_by_text(query, n_results=2):\n",
    "    metadatas = []\n",
    "    n_results = 2\n",
    "    results = collection.query(query_texts=[query], n_results=2)\n",
    "    \n",
    "    for i in range(n_results):\n",
    "        metadatas.append(results[\"metadatas\"][0][i])\n",
    "        \n",
    "    return metadatas\n",
    "\n",
    "def get_results_by_image(image, n_results=2):\n",
    "    metadatas = []\n",
    "    n_results = 2\n",
    "    \n",
    "    image_embedding = encode_image(image)\n",
    "    results = collection.query(query_embeddings=[image_embedding], n_results=2)\n",
    "    \n",
    "    for i in range(n_results):\n",
    "        metadatas.append(results[\"metadatas\"][0][i])\n",
    "        \n",
    "    return metadatas"
   ]
  },
  {
   "cell_type": "code",
   "execution_count": null,
   "metadata": {},
   "outputs": [],
   "source": [
    "#test out querying by text"
   ]
  },
  {
   "cell_type": "code",
   "execution_count": null,
   "metadata": {},
   "outputs": [],
   "source": [
    "results = get_results_by_text(\"fajita\", n_results=2)\n",
    "\n",
    "for result in results:\n",
    "    print(result)"
   ]
  },
  {
   "cell_type": "code",
   "execution_count": null,
   "metadata": {},
   "outputs": [],
   "source": [
    "#test out querying by image"
   ]
  },
  {
   "cell_type": "code",
   "execution_count": null,
   "metadata": {},
   "outputs": [],
   "source": [
    "# sandwhich image\n",
    "url = \"https://media.istockphoto.com/id/157431311/photo/turkey-sandwich.jpg?s=612x612&w=0&k=20&c=uB6byErFAnWxFkkAqMiGNRJGE8r3nqsSDdqrfBE8HOA=\"\n",
    "raw_image = Image.open(requests.get(url, stream=True).raw)\n",
    "\n",
    "results = get_results_by_image(raw_image, n_results=2)\n",
    "\n",
    "for result in results:\n",
    "    print(result)"
   ]
  },
  {
   "cell_type": "code",
   "execution_count": null,
   "metadata": {},
   "outputs": [],
   "source": [
    "#Step 5: Build the Gradio UI"
   ]
  },
  {
   "cell_type": "code",
   "execution_count": null,
   "metadata": {},
   "outputs": [],
   "source": [
    "from dotenv import load_dotenv\n",
    "load_dotenv()  # take environment variables from .env.\n",
    "import gradio as gr\n",
    "import openai\n",
    "import pandas as pd\n",
    "import gradio as gr\n",
    "\n",
    "def search_by_text(query, n_results):\n",
    "    results = get_results_by_text(query, n_results=n_results)\n",
    "\n",
    "    try:\n",
    "        df = pd.DataFrame(results, columns=['name', 'address', 'rating', 'description of restaurant'])\n",
    "        return df\n",
    "    except Exception as e:\n",
    "        raise gr.Error(e.message)\n",
    "        \n",
    "        \n",
    "def search_by_image(image, n_results):\n",
    "    results = get_results_by_image(image, n_results=n_results)\n",
    "    \n",
    "    try:\n",
    "        df = pd.DataFrame(results, columns=['name', 'address', 'rating', 'description of restaurant'])\n",
    "        return df\n",
    "    except Exception as e:\n",
    "        raise gr.Error(e.message)\n",
    "\n",
    "with gr.Blocks() as demo:\n",
    "    with gr.Tab(\"Search by Text\"):\n",
    "        with gr.Row():\n",
    "            with gr.Column():\n",
    "                query = gr.Textbox(label=\"What are you looking for?\", lines=5)\n",
    "                text_n_results = gr.Slider(label=\"Results to Display\", minimum=0, maximum=10, value=2, step=1)\n",
    "                text_btn = gr.Button(value =\"Submit\")\n",
    "                text_table = gr.Dataframe(label=\"Results\", headers=['name', 'address', 'rating', 'description of restaurant'])\n",
    "            text_btn.click(search_by_text, inputs = [query, text_n_results], outputs = [text_table])\n",
    "            \n",
    "    with gr.Tab(\"Search by Image\"):\n",
    "        with gr.Row():\n",
    "            with gr.Column():\n",
    "                image = gr.Image(label=\"Upload a picture\", type='pil')\n",
    "                image_n_results = gr.Slider(label=\"Results to Display\", minimum=0, maximum=10, value=2, step=1)\n",
    "                image_btn = gr.Button(value =\"Submit\")\n",
    "                image_table = gr.Dataframe(label=\"Results\", headers=['name', 'address', 'rating', 'description of restaurant'])\n",
    "            image_btn.click(search_by_image, inputs = [image, image_n_results], outputs = [image_table])\n",
    "    demo.launch(share=True)"
   ]
  }
 ],
 "metadata": {
  "language_info": {
   "name": "python"
  }
 },
 "nbformat": 4,
 "nbformat_minor": 2
}
